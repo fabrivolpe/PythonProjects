{
 "cells": [
  {
   "cell_type": "markdown",
   "id": "bd13ee5b",
   "metadata": {},
   "source": [
    "Enter a string and the program will reverse it and print it out."
   ]
  },
  {
   "cell_type": "code",
   "execution_count": null,
   "id": "833de7e3",
   "metadata": {},
   "outputs": [],
   "source": [
    "#This reverses the order of the words\n",
    "st = input('Write a sentence: ')\n",
    "s = st.split()[::-1]\n",
    "l = []\n",
    "\n",
    "for letter in s:\n",
    "    l.append(letter)\n",
    "\n",
    "' '.join(l)"
   ]
  },
  {
   "cell_type": "code",
   "execution_count": null,
   "id": "a8c4b38c",
   "metadata": {},
   "outputs": [],
   "source": [
    "#This reverses the order of the letters\n",
    "st = input('Write a sentence')\n",
    "s = list(st)\n",
    "l = s[::-1]\n",
    "\n",
    "''.join(l)"
   ]
  }
 ],
 "metadata": {
  "kernelspec": {
   "display_name": "Python 3",
   "language": "python",
   "name": "python3"
  },
  "language_info": {
   "codemirror_mode": {
    "name": "ipython",
    "version": 3
   },
   "file_extension": ".py",
   "mimetype": "text/x-python",
   "name": "python",
   "nbconvert_exporter": "python",
   "pygments_lexer": "ipython3",
   "version": "3.8.8"
  }
 },
 "nbformat": 4,
 "nbformat_minor": 5
}
