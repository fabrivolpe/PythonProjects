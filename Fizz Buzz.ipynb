{
 "cells": [
  {
   "cell_type": "markdown",
   "id": "c6718125",
   "metadata": {},
   "source": [
    "This is a program that prints the numbers from 1 to 100. But for multiples of three prints “Fizz” instead of the number and for the multiples of five prints “Buzz”. For numbers which are multiples of both three and five prints “FizzBuzz”."
   ]
  },
  {
   "cell_type": "code",
   "execution_count": null,
   "id": "8d5080f2",
   "metadata": {},
   "outputs": [],
   "source": [
    "for n in range(1,100):\n",
    "    if n%3 == 0 and n%5 == 0:\n",
    "        print('FizzBuzz')\n",
    "    \n",
    "    elif n%5 == 0:\n",
    "        print('Buzz')\n",
    "    \n",
    "    elif n%3 == 0:\n",
    "        print('Fizz')\n",
    "    \n",
    "    else:\n",
    "        print(n)"
   ]
  }
 ],
 "metadata": {
  "kernelspec": {
   "display_name": "Python 3",
   "language": "python",
   "name": "python3"
  },
  "language_info": {
   "codemirror_mode": {
    "name": "ipython",
    "version": 3
   },
   "file_extension": ".py",
   "mimetype": "text/x-python",
   "name": "python",
   "nbconvert_exporter": "python",
   "pygments_lexer": "ipython3",
   "version": "3.8.8"
  }
 },
 "nbformat": 4,
 "nbformat_minor": 5
}
