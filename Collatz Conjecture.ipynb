{
 "cells": [
  {
   "cell_type": "markdown",
   "id": "24a4deca",
   "metadata": {},
   "source": [
    "Start with a number n > 1. Find the number of steps it takes to reach one using the following process: If n is even, divide it by 2. If n is odd, multiply it by 3 and add 1."
   ]
  },
  {
   "cell_type": "code",
   "execution_count": 26,
   "id": "b8f86370",
   "metadata": {},
   "outputs": [
    {
     "name": "stdout",
     "output_type": "stream",
     "text": [
      "Pick an integer > 1: 100\n"
     ]
    },
    {
     "data": {
      "text/plain": [
       "25"
      ]
     },
     "execution_count": 26,
     "metadata": {},
     "output_type": "execute_result"
    }
   ],
   "source": [
    "quotients = []\n",
    "num = int(input('Pick an integer > 1: '))\n",
    "\n",
    "while num != 1:\n",
    "    if num % 2 == 0:\n",
    "        num = num/2\n",
    "        quotients.append(num)\n",
    "\n",
    "    else:\n",
    "        num = num*3 + 1\n",
    "        quotients.append(num)\n",
    "\n",
    "len(quotients)"
   ]
  }
 ],
 "metadata": {
  "kernelspec": {
   "display_name": "Python 3",
   "language": "python",
   "name": "python3"
  },
  "language_info": {
   "codemirror_mode": {
    "name": "ipython",
    "version": 3
   },
   "file_extension": ".py",
   "mimetype": "text/x-python",
   "name": "python",
   "nbconvert_exporter": "python",
   "pygments_lexer": "ipython3",
   "version": "3.8.8"
  }
 },
 "nbformat": 4,
 "nbformat_minor": 5
}
