{
 "cells": [
  {
   "cell_type": "markdown",
   "id": "b1645bfa",
   "metadata": {},
   "source": [
    " Asks the user to enter a cost and either a country or state tax. It then returns the tax plus the total cost with tax."
   ]
  },
  {
   "cell_type": "code",
   "execution_count": 15,
   "id": "2ae723ea",
   "metadata": {},
   "outputs": [
    {
     "name": "stdout",
     "output_type": "stream",
     "text": [
      "How much is your item? 100\n",
      "Tax percentage: 17.346\n",
      "Your total cost is 117.35\n"
     ]
    }
   ],
   "source": [
    "cost = float(input('How much is your item? '))\n",
    "tax = float(input('Tax percentage: '))\n",
    "total_cost = cost*(1+tax/100)\n",
    "\n",
    "print(f'Your total cost is {round(total_cost,2)}')"
   ]
  }
 ],
 "metadata": {
  "kernelspec": {
   "display_name": "Python 3",
   "language": "python",
   "name": "python3"
  },
  "language_info": {
   "codemirror_mode": {
    "name": "ipython",
    "version": 3
   },
   "file_extension": ".py",
   "mimetype": "text/x-python",
   "name": "python",
   "nbconvert_exporter": "python",
   "pygments_lexer": "ipython3",
   "version": "3.8.8"
  }
 },
 "nbformat": 4,
 "nbformat_minor": 5
}
