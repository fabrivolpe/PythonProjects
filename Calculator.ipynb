{
 "cells": [
  {
   "cell_type": "code",
   "execution_count": null,
   "id": "b6040bff",
   "metadata": {},
   "outputs": [],
   "source": [
    "#Simple calculator\n",
    "from IPython.display import clear_output\n",
    "\n",
    "x = float(input('First number: '))\n",
    "y = float(input('Second number: '))\n",
    "\n",
    "question = '''Which would you like to perform? (Pick a letter) \n",
    "A. Add \n",
    "B. Substract \n",
    "C. Multiply\n",
    "D. Divide\n",
    "'''\n",
    "\n",
    "is_valid = False\n",
    "\n",
    "while is_valid == False:\n",
    "    operation = input(question)\n",
    "    \n",
    "    #Addition\n",
    "    if operation.upper() == 'A':\n",
    "        print(f'Your result is {x + y}')\n",
    "        is_valid = True\n",
    "        \n",
    "    #Substraction\n",
    "    elif operation.upper() == 'B':\n",
    "        print(f'Your result is {x - y}')\n",
    "        is_valid = True\n",
    "    \n",
    "    #Multiplication    \n",
    "    elif operation.upper() == 'C':\n",
    "        print(f'Your result is {x * y}')\n",
    "        is_valid = True\n",
    "\n",
    "    #Division\n",
    "    elif operation.upper() == 'D':\n",
    "        print(f'Your result is {x / y}')\n",
    "        is_valid = True\n",
    "\n",
    "    #Invalid\n",
    "    else:\n",
    "        clear_output()\n",
    "        print('Invalid option')"
   ]
  },
  {
   "cell_type": "code",
   "execution_count": null,
   "id": "31117c42",
   "metadata": {},
   "outputs": [],
   "source": [
    "#Interactive calculator\n",
    "\n",
    "from ipywidgets import interact, interactive, fixed\n",
    "import ipywidgets as widgets\n",
    "\n",
    "def f(x=0, y=0, operation=['+','-','*','/']):\n",
    "    \n",
    "    if operation == '+':\n",
    "        return x + y\n",
    "    \n",
    "    elif operation == '-':\n",
    "        return x - y\n",
    "    \n",
    "    elif operation == '*':\n",
    "        return x * y\n",
    "    \n",
    "    elif operation == '/':\n",
    "        return x / y\n",
    "\n",
    "#You can adjust min, max, step size, and values of x and y inside function   \n",
    "interact(f, \n",
    "         x=widgets.IntSlider(min=-100,max=100,step=1,value=10), \n",
    "         y=widgets.IntSlider(min=-100,max=100,step=1,value=10), \n",
    "         operation=['+','-','*','/'])"
   ]
  }
 ],
 "metadata": {
  "kernelspec": {
   "display_name": "Python 3",
   "language": "python",
   "name": "python3"
  },
  "language_info": {
   "codemirror_mode": {
    "name": "ipython",
    "version": 3
   },
   "file_extension": ".py",
   "mimetype": "text/x-python",
   "name": "python",
   "nbconvert_exporter": "python",
   "pygments_lexer": "ipython3",
   "version": "3.8.8"
  }
 },
 "nbformat": 4,
 "nbformat_minor": 5
}
