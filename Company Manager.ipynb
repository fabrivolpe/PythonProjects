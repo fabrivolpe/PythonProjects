{
 "cells": [
  {
   "cell_type": "markdown",
   "id": "dc58dd28",
   "metadata": {},
   "source": [
    "Company Manager - Create an hierarchy of classes - abstract class Employee and subclasses HourlyEmployee, SalariedEmployee, Manager and Executive. Every one's pay is calculated differently, research a bit about it. After you've established an employee hierarchy, create a Company class that allows you to manage the employees. You should be able to hire, fire and raise employees. "
   ]
  },
  {
   "cell_type": "code",
   "execution_count": 67,
   "id": "6a1fb6ee",
   "metadata": {},
   "outputs": [],
   "source": [
    "#Use sets as opposed to using lists\n",
    "employees = set()\n",
    "past_and_current_employees = set()\n",
    "hourly = set()\n",
    "salaried = set()\n",
    "managers = set()\n",
    "executives = set()\n",
    "hourly_payroll = set()\n",
    "salaried_payroll = set()\n",
    "manager_payroll = set()\n",
    "executive_payroll = set()\n",
    "#total_payroll = [] #This is a list because there might be people making the same amount\n",
    "\n",
    "class Employee():\n",
    "    def __init__(self, name, pay):\n",
    "        self.name = name\n",
    "        self.pay = pay\n",
    "    \n",
    "    def calculate_pay(self): #Abstract method, defined by convention only\n",
    "        raise NotImplementedError(\"Subclass must implement abstract method\")\n",
    "\n",
    "class Hourly(Employee): #Input hourly wages\n",
    "    def calculate_pay(self): \n",
    "        hours = int(input(f'How many hours has {self.name} worked this month? '))\n",
    "        return self.pay*hours\n",
    "    \n",
    "class Salaried(Employee): #Input yearly salary\n",
    "    def calculate_pay(self):\n",
    "        return self.pay/12\n",
    "    \n",
    "class Manager(Employee): #Input yearly salary\n",
    "    def calculate_pay(self):\n",
    "        bonus = int(input(f'How much, if anything, will {self.name} get in bonus this year? '))\n",
    "        return (self.pay+bonus)/12\n",
    "    \n",
    "class Executive(Employee): #Input yearly salary\n",
    "    def calculate_pay(self):\n",
    "        bonus = int(input(f'How much, if anything, will {self.name} get in bonus this year? '))\n",
    "        stocks = int(input(f'How much, if anything, will {self.name} get in stocks this year? '))\n",
    "        return (self.pay+bonus+stocks)/12\n",
    "\n",
    "class Company():\n",
    "    def __init__(self, name):\n",
    "        self.name = name\n",
    "    \n",
    "    def hire(self, Employee):\n",
    "        while True:\n",
    "            want_to_hire = input(f'Do you want to hire {Employee.name}? Y or N ')\n",
    "            if want_to_hire[0].upper() == 'Y':\n",
    "                employees.add(Employee.name)\n",
    "                past_and_current_employees.add(Employee.name)\n",
    "                print(f'{Employee.name} has been hired!')\n",
    "                break\n",
    "            \n",
    "            elif want_to_hire[0].upper() == 'N':\n",
    "                print(f'{Employee.name} has been rejected!')\n",
    "                break\n",
    "            \n",
    "            else:\n",
    "                print('Invalid answer')\n",
    "        \n",
    "        if type(Employee) is Hourly:\n",
    "            hourly.add(Employee.name)\n",
    "            hourly_payroll.add(Employee)\n",
    "        \n",
    "        if type(Employee) is Salaried:\n",
    "            salaried.add(Employee.name)\n",
    "            salaried_payroll.add(Employee)\n",
    "        \n",
    "        if type(Employee) is Manager:\n",
    "            managers.add(Employee.name)\n",
    "            manager_payroll.add(Employee)\n",
    "        \n",
    "        if type(Employee) is Executive:\n",
    "            executives.add(Employee.name)\n",
    "            executive_payroll.add(Employee)\n",
    "    \n",
    "    def fire(self, Employee):\n",
    "        print(f'{Employee.name} has been fired')\n",
    "        \n",
    "        employees.remove(Employee.name)\n",
    "        \n",
    "        if type(Employee) is Hourly:\n",
    "            hourly.remove(Employee.name)\n",
    "            hourly_payroll.remove(Employee)\n",
    "        \n",
    "        if type(Employee) is Salaried:\n",
    "            salaried.remove(Employee.name)\n",
    "            salaried_payroll.remove(Employee)\n",
    "        \n",
    "        if type(Employee) is Manager:\n",
    "            managers.remove(Employee.name)\n",
    "            manager_payroll.remove(Employee)\n",
    "        \n",
    "        if type(Employee) is Executive:\n",
    "            executives.remove(Employee.name)\n",
    "            executive_payroll.remove(Employee)\n",
    "    \n",
    "    def check_list_of_current_employees(self):\n",
    "        #List of current employees\n",
    "        if len(employees)>0:   \n",
    "            print('These are all your current employees: ')\n",
    "            print(employees)\n",
    "        else:\n",
    "            print('There are no employees in the company')\n",
    "        \n",
    "        #List of hourly employees\n",
    "        if len(hourly)>0:\n",
    "            print('These are all your current hourly employees: ')\n",
    "            print(hourly)\n",
    "        else:\n",
    "            print('There are no hourly employees in the company')\n",
    "        \n",
    "        #List of salaried employees\n",
    "        if len(salaried)>0:\n",
    "            print('These are all your current salaried employees: ')\n",
    "            print(salaried)\n",
    "        else:\n",
    "            print('There are no salaried employees in the company')\n",
    "        \n",
    "        #List of managers \n",
    "        if len(managers)>0:\n",
    "            print('These are all your current managers: ')\n",
    "            print(managers)\n",
    "        else:\n",
    "            print('There are no managers in the company')\n",
    "        \n",
    "        #List of executives\n",
    "        if len(executives)>0:\n",
    "            print('These are all your current executives: ')\n",
    "            print(executives)\n",
    "        else:\n",
    "            print('There are no executives in the company')\n",
    "        \n",
    "    def check_all_employees_ever_hired(self):\n",
    "        print('These are all the employees the company has hired: ')\n",
    "        print(past_and_current_employees)\n",
    "                \n",
    "    def give_raise(self, Employee):\n",
    "        new_pay = int(input('What is the new pay for this employee? Provide hourly wages/yearly salary '))\n",
    "        Employee.pay = new_pay\n",
    "        \n",
    "    def calculate_payroll(self):\n",
    "        \n",
    "        total_payroll = []\n",
    "        for h in hourly_payroll:\n",
    "            total_payroll.append(Hourly.calculate_pay(h))\n",
    "            \n",
    "        for s in salaried_payroll:\n",
    "            total_payroll.append(Salaried.calculate_pay(s))\n",
    "            \n",
    "        for m in manager_payroll:\n",
    "            total_payroll.append(Manager.calculate_pay(m))\n",
    "            \n",
    "        for e in executive_payroll:\n",
    "            total_payroll.append(Executive.calculate_pay(e))\n",
    "        \n",
    "        print(\"This month's payroll is: \")\n",
    "        print(str(sum(total_payroll)))"
   ]
  },
  {
   "cell_type": "code",
   "execution_count": 68,
   "id": "13f553b2",
   "metadata": {},
   "outputs": [],
   "source": [
    "f = Company('Fabulous.Co')\n",
    "j = Hourly('Julio', 15)\n",
    "l = Hourly('Luis', 15)\n",
    "r = Hourly('Raul', 20)\n",
    "m = Salaried('Marta', 80000)\n",
    "d = Salaried('Diego', 85000)\n",
    "p = Salaried('Pablo', 70000)\n",
    "h = Salaried('Hector', 75000)\n",
    "g = Manager('Gaby', 100000)\n",
    "k = Manager('Klaus', 110000)\n",
    "u = Manager('Ulysses', 110000)\n",
    "t = Executive('Terry', 150000)\n",
    "c = Executive('Candy', 170000)"
   ]
  },
  {
   "cell_type": "code",
   "execution_count": 69,
   "id": "8ec04e41",
   "metadata": {},
   "outputs": [
    {
     "name": "stdout",
     "output_type": "stream",
     "text": [
      "Do you want to hire Julio? Y or N y\n",
      "Julio has been hired!\n",
      "Do you want to hire Luis? Y or N y\n",
      "Luis has been hired!\n",
      "Do you want to hire Raul? Y or N y\n",
      "Raul has been hired!\n",
      "Do you want to hire Marta? Y or N y\n",
      "Marta has been hired!\n",
      "Do you want to hire Diego? Y or N y\n",
      "Diego has been hired!\n",
      "Do you want to hire Pablo? Y or N y\n",
      "Pablo has been hired!\n",
      "Do you want to hire Hector? Y or N y\n",
      "Hector has been hired!\n",
      "Do you want to hire Gaby? Y or N y\n",
      "Gaby has been hired!\n",
      "Do you want to hire Ulysses? Y or N y\n",
      "Ulysses has been hired!\n",
      "Do you want to hire Terry? Y or N y\n",
      "Terry has been hired!\n",
      "Do you want to hire Candy? Y or N y\n",
      "Candy has been hired!\n"
     ]
    }
   ],
   "source": [
    "f.hire(j)\n",
    "f.hire(l)\n",
    "f.hire(r)\n",
    "f.hire(m)\n",
    "f.hire(d)\n",
    "f.hire(p)\n",
    "f.hire(h)\n",
    "f.hire(g)\n",
    "f.hire(u)\n",
    "f.hire(t)\n",
    "f.hire(c)"
   ]
  },
  {
   "cell_type": "code",
   "execution_count": 70,
   "id": "77e2fe27",
   "metadata": {},
   "outputs": [
    {
     "name": "stdout",
     "output_type": "stream",
     "text": [
      "How many hours has Julio worked this month? 100\n"
     ]
    },
    {
     "data": {
      "text/plain": [
       "1500"
      ]
     },
     "execution_count": 70,
     "metadata": {},
     "output_type": "execute_result"
    }
   ],
   "source": [
    "j.calculate_pay()"
   ]
  },
  {
   "cell_type": "code",
   "execution_count": 71,
   "id": "636a1cdc",
   "metadata": {},
   "outputs": [
    {
     "name": "stdout",
     "output_type": "stream",
     "text": [
      "What is the new pay for this employee? Provide hourly wages/yearly salary 20\n"
     ]
    }
   ],
   "source": [
    "f.give_raise(j)"
   ]
  },
  {
   "cell_type": "code",
   "execution_count": 72,
   "id": "82bf377a",
   "metadata": {},
   "outputs": [
    {
     "data": {
      "text/plain": [
       "20"
      ]
     },
     "execution_count": 72,
     "metadata": {},
     "output_type": "execute_result"
    }
   ],
   "source": [
    "j.pay"
   ]
  },
  {
   "cell_type": "code",
   "execution_count": 73,
   "id": "38045efb",
   "metadata": {},
   "outputs": [
    {
     "name": "stdout",
     "output_type": "stream",
     "text": [
      "How many hours has Julio worked this month? 100\n"
     ]
    },
    {
     "data": {
      "text/plain": [
       "2000"
      ]
     },
     "execution_count": 73,
     "metadata": {},
     "output_type": "execute_result"
    }
   ],
   "source": [
    "j.calculate_pay()"
   ]
  },
  {
   "cell_type": "code",
   "execution_count": 74,
   "id": "4cfb45e5",
   "metadata": {},
   "outputs": [
    {
     "name": "stdout",
     "output_type": "stream",
     "text": [
      "How many hours has Luis worked this month? 100\n",
      "How many hours has Raul worked this month? 100\n",
      "How many hours has Julio worked this month? 100\n",
      "How much, if anything, will Gaby get in bonus this year? 1000\n",
      "How much, if anything, will Ulysses get in bonus this year? 1000\n",
      "How much, if anything, will Candy get in bonus this year? 2000\n",
      "How much, if anything, will Candy get in stocks this year? 2000\n",
      "How much, if anything, will Terry get in bonus this year? 3000\n",
      "How much, if anything, will Terry get in stocks this year? 3000\n",
      "This month's payroll is: \n",
      "76500.0\n"
     ]
    }
   ],
   "source": [
    "f.calculate_payroll()"
   ]
  },
  {
   "cell_type": "code",
   "execution_count": 75,
   "id": "63be1297",
   "metadata": {},
   "outputs": [
    {
     "name": "stdout",
     "output_type": "stream",
     "text": [
      "These are all your current employees: \n",
      "{'Terry', 'Diego', 'Candy', 'Marta', 'Luis', 'Pablo', 'Ulysses', 'Raul', 'Hector', 'Julio', 'Gaby'}\n",
      "These are all your current hourly employees: \n",
      "{'Luis', 'Raul', 'Julio'}\n",
      "These are all your current salaried employees: \n",
      "{'Diego', 'Pablo', 'Hector', 'Marta'}\n",
      "These are all your current managers: \n",
      "{'Gaby', 'Ulysses'}\n",
      "These are all your current executives: \n",
      "{'Terry', 'Candy'}\n"
     ]
    }
   ],
   "source": [
    "f.check_list_of_current_employees()"
   ]
  },
  {
   "cell_type": "code",
   "execution_count": 76,
   "id": "5d2a0ef5",
   "metadata": {},
   "outputs": [
    {
     "name": "stdout",
     "output_type": "stream",
     "text": [
      "Julio has been fired\n"
     ]
    }
   ],
   "source": [
    "f.fire(j)"
   ]
  },
  {
   "cell_type": "code",
   "execution_count": 77,
   "id": "abb07ed0",
   "metadata": {},
   "outputs": [
    {
     "name": "stdout",
     "output_type": "stream",
     "text": [
      "These are all your current employees: \n",
      "{'Terry', 'Diego', 'Candy', 'Marta', 'Luis', 'Pablo', 'Ulysses', 'Raul', 'Hector', 'Gaby'}\n",
      "These are all your current hourly employees: \n",
      "{'Luis', 'Raul'}\n",
      "These are all your current salaried employees: \n",
      "{'Diego', 'Pablo', 'Hector', 'Marta'}\n",
      "These are all your current managers: \n",
      "{'Gaby', 'Ulysses'}\n",
      "These are all your current executives: \n",
      "{'Terry', 'Candy'}\n"
     ]
    }
   ],
   "source": [
    "f.check_list_of_current_employees()"
   ]
  },
  {
   "cell_type": "code",
   "execution_count": 78,
   "id": "95ad3277",
   "metadata": {},
   "outputs": [
    {
     "name": "stdout",
     "output_type": "stream",
     "text": [
      "These are all the employees the company has hired: \n",
      "{'Terry', 'Diego', 'Candy', 'Marta', 'Luis', 'Pablo', 'Ulysses', 'Raul', 'Hector', 'Julio', 'Gaby'}\n"
     ]
    }
   ],
   "source": [
    "f.check_all_employees_ever_hired()"
   ]
  },
  {
   "cell_type": "code",
   "execution_count": 79,
   "id": "26a9c591",
   "metadata": {},
   "outputs": [
    {
     "name": "stdout",
     "output_type": "stream",
     "text": [
      "How many hours has Luis worked this month? 100\n",
      "How many hours has Raul worked this month? 100\n",
      "How much, if anything, will Gaby get in bonus this year? 1000\n",
      "How much, if anything, will Ulysses get in bonus this year? 1000\n",
      "How much, if anything, will Candy get in bonus this year? 2000\n",
      "How much, if anything, will Candy get in stocks this year? 2000\n",
      "How much, if anything, will Terry get in bonus this year? 3000\n",
      "How much, if anything, will Terry get in stocks this year? 3000\n",
      "This month's payroll is: \n",
      "74500.0\n"
     ]
    }
   ],
   "source": [
    "f.calculate_payroll()"
   ]
  },
  {
   "cell_type": "code",
   "execution_count": null,
   "id": "6ddcf8ed",
   "metadata": {},
   "outputs": [],
   "source": []
  }
 ],
 "metadata": {
  "kernelspec": {
   "display_name": "Python 3",
   "language": "python",
   "name": "python3"
  },
  "language_info": {
   "codemirror_mode": {
    "name": "ipython",
    "version": 3
   },
   "file_extension": ".py",
   "mimetype": "text/x-python",
   "name": "python",
   "nbconvert_exporter": "python",
   "pygments_lexer": "ipython3",
   "version": "3.8.8"
  }
 },
 "nbformat": 4,
 "nbformat_minor": 5
}
